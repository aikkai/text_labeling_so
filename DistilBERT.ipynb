{
 "cells": [
  {
   "cell_type": "code",
   "execution_count": 1,
   "id": "f4462240-7233-4fd6-8000-0ade79a01711",
   "metadata": {},
   "outputs": [],
   "source": [
    "# Importing libraries\n",
    "import warnings\n",
    "warnings.simplefilter('ignore')\n",
    "import numpy as np\n",
    "import pandas as pd\n",
    "from tqdm import tqdm\n",
    "from sklearn import metrics\n",
    "from sklearn.metrics import accuracy_score, f1_score, precision_score, recall_score\n",
    "import transformers\n",
    "import torch\n",
    "from torch.utils.data import Dataset, DataLoader, RandomSampler, SequentialSampler\n",
    "from transformers import DistilBertTokenizer, DistilBertModel\n",
    "import logging\n",
    "logging.basicConfig(level=logging.ERROR)\n",
    "import joblib"
   ]
  },
  {
   "cell_type": "code",
   "execution_count": 2,
   "id": "702e03a1-525f-45c6-b12f-b34132a5ef51",
   "metadata": {},
   "outputs": [],
   "source": [
    "# We want to use the GPU if possible\n",
    "\n",
    "from torch import cuda\n",
    "device = 'cuda' if cuda.is_available() else 'cpu'"
   ]
  },
  {
   "cell_type": "code",
   "execution_count": 3,
   "id": "8f04a8a4-2a6b-456f-adeb-a3ebd5942c52",
   "metadata": {},
   "outputs": [
    {
     "data": {
      "text/plain": [
       "'cuda'"
      ]
     },
     "execution_count": 3,
     "metadata": {},
     "output_type": "execute_result"
    }
   ],
   "source": [
    "device"
   ]
  },
  {
   "cell_type": "code",
   "execution_count": 4,
   "id": "02409f11-a3bb-49eb-b05b-c26fb4f3b1d4",
   "metadata": {},
   "outputs": [],
   "source": [
    "# Load the data as saved in previous section, before tokenization\n",
    "\n",
    "data = pd.read_pickle('data.pkl')"
   ]
  },
  {
   "cell_type": "code",
   "execution_count": 5,
   "id": "ec8a04d8-03ed-4759-8f97-caa7d2a6a4b1",
   "metadata": {},
   "outputs": [
    {
     "data": {
      "text/html": [
       "<div>\n",
       "<style scoped>\n",
       "    .dataframe tbody tr th:only-of-type {\n",
       "        vertical-align: middle;\n",
       "    }\n",
       "\n",
       "    .dataframe tbody tr th {\n",
       "        vertical-align: top;\n",
       "    }\n",
       "\n",
       "    .dataframe thead th {\n",
       "        text-align: right;\n",
       "    }\n",
       "</style>\n",
       "<table border=\"1\" class=\"dataframe\">\n",
       "  <thead>\n",
       "    <tr style=\"text-align: right;\">\n",
       "      <th></th>\n",
       "      <th>Id</th>\n",
       "      <th>Title</th>\n",
       "      <th>Body</th>\n",
       "      <th>Tag</th>\n",
       "      <th>NoTags</th>\n",
       "    </tr>\n",
       "  </thead>\n",
       "  <tbody>\n",
       "    <tr>\n",
       "      <th>0</th>\n",
       "      <td>80</td>\n",
       "      <td>sqlstatement.execute() - multiple queries in o...</td>\n",
       "      <td>&lt;p&gt;i've written a database generation script i...</td>\n",
       "      <td>[flex, actionscript-3, air]</td>\n",
       "      <td>3</td>\n",
       "    </tr>\n",
       "    <tr>\n",
       "      <th>1</th>\n",
       "      <td>90</td>\n",
       "      <td>good branching and merging tutorials for torto...</td>\n",
       "      <td>&lt;p&gt;are there any really good tutorials explain...</td>\n",
       "      <td>[svn, tortoisesvn, branch, branching-and-merging]</td>\n",
       "      <td>4</td>\n",
       "    </tr>\n",
       "    <tr>\n",
       "      <th>2</th>\n",
       "      <td>120</td>\n",
       "      <td>asp.net site maps</td>\n",
       "      <td>&lt;p&gt;has anyone got experience creating &lt;strong&gt;...</td>\n",
       "      <td>[sql, asp.net, sitemap]</td>\n",
       "      <td>3</td>\n",
       "    </tr>\n",
       "    <tr>\n",
       "      <th>3</th>\n",
       "      <td>180</td>\n",
       "      <td>function for creating color wheels</td>\n",
       "      <td>&lt;p&gt;this is something i've pseudo-solved many t...</td>\n",
       "      <td>[algorithm, language-agnostic, colors, color-s...</td>\n",
       "      <td>4</td>\n",
       "    </tr>\n",
       "    <tr>\n",
       "      <th>4</th>\n",
       "      <td>260</td>\n",
       "      <td>adding scripting functionality to .net applica...</td>\n",
       "      <td>&lt;p&gt;i have a little game written in c#. it uses...</td>\n",
       "      <td>[c#, .net, scripting, compiler-construction]</td>\n",
       "      <td>4</td>\n",
       "    </tr>\n",
       "  </tbody>\n",
       "</table>\n",
       "</div>"
      ],
      "text/plain": [
       "    Id                                              Title  \\\n",
       "0   80  sqlstatement.execute() - multiple queries in o...   \n",
       "1   90  good branching and merging tutorials for torto...   \n",
       "2  120                                  asp.net site maps   \n",
       "3  180                 function for creating color wheels   \n",
       "4  260  adding scripting functionality to .net applica...   \n",
       "\n",
       "                                                Body  \\\n",
       "0  <p>i've written a database generation script i...   \n",
       "1  <p>are there any really good tutorials explain...   \n",
       "2  <p>has anyone got experience creating <strong>...   \n",
       "3  <p>this is something i've pseudo-solved many t...   \n",
       "4  <p>i have a little game written in c#. it uses...   \n",
       "\n",
       "                                                 Tag  NoTags  \n",
       "0                        [flex, actionscript-3, air]       3  \n",
       "1  [svn, tortoisesvn, branch, branching-and-merging]       4  \n",
       "2                            [sql, asp.net, sitemap]       3  \n",
       "3  [algorithm, language-agnostic, colors, color-s...       4  \n",
       "4       [c#, .net, scripting, compiler-construction]       4  "
      ]
     },
     "execution_count": 5,
     "metadata": {},
     "output_type": "execute_result"
    }
   ],
   "source": [
    "data.head()"
   ]
  },
  {
   "cell_type": "code",
   "execution_count": 6,
   "id": "530ed636-9b36-4e5f-a0e4-8ecdf0f189a6",
   "metadata": {},
   "outputs": [
    {
     "data": {
      "text/html": [
       "<div>\n",
       "<style scoped>\n",
       "    .dataframe tbody tr th:only-of-type {\n",
       "        vertical-align: middle;\n",
       "    }\n",
       "\n",
       "    .dataframe tbody tr th {\n",
       "        vertical-align: top;\n",
       "    }\n",
       "\n",
       "    .dataframe thead th {\n",
       "        text-align: right;\n",
       "    }\n",
       "</style>\n",
       "<table border=\"1\" class=\"dataframe\">\n",
       "  <thead>\n",
       "    <tr style=\"text-align: right;\">\n",
       "      <th></th>\n",
       "      <th>Tag</th>\n",
       "      <th>Text</th>\n",
       "    </tr>\n",
       "  </thead>\n",
       "  <tbody>\n",
       "    <tr>\n",
       "      <th>0</th>\n",
       "      <td>[flex, actionscript-3, air]</td>\n",
       "      <td>sqlstatement.execute() - multiple queries in o...</td>\n",
       "    </tr>\n",
       "    <tr>\n",
       "      <th>1</th>\n",
       "      <td>[svn, tortoisesvn, branch, branching-and-merging]</td>\n",
       "      <td>good branching and merging tutorials for torto...</td>\n",
       "    </tr>\n",
       "    <tr>\n",
       "      <th>2</th>\n",
       "      <td>[sql, asp.net, sitemap]</td>\n",
       "      <td>asp.net site maps&lt;p&gt;has anyone got experience ...</td>\n",
       "    </tr>\n",
       "    <tr>\n",
       "      <th>3</th>\n",
       "      <td>[algorithm, language-agnostic, colors, color-s...</td>\n",
       "      <td>function for creating color wheels&lt;p&gt;this is s...</td>\n",
       "    </tr>\n",
       "    <tr>\n",
       "      <th>4</th>\n",
       "      <td>[c#, .net, scripting, compiler-construction]</td>\n",
       "      <td>adding scripting functionality to .net applica...</td>\n",
       "    </tr>\n",
       "  </tbody>\n",
       "</table>\n",
       "</div>"
      ],
      "text/plain": [
       "                                                 Tag  \\\n",
       "0                        [flex, actionscript-3, air]   \n",
       "1  [svn, tortoisesvn, branch, branching-and-merging]   \n",
       "2                            [sql, asp.net, sitemap]   \n",
       "3  [algorithm, language-agnostic, colors, color-s...   \n",
       "4       [c#, .net, scripting, compiler-construction]   \n",
       "\n",
       "                                                Text  \n",
       "0  sqlstatement.execute() - multiple queries in o...  \n",
       "1  good branching and merging tutorials for torto...  \n",
       "2  asp.net site maps<p>has anyone got experience ...  \n",
       "3  function for creating color wheels<p>this is s...  \n",
       "4  adding scripting functionality to .net applica...  "
      ]
     },
     "execution_count": 6,
     "metadata": {},
     "output_type": "execute_result"
    }
   ],
   "source": [
    "# We will combine the title and the body as we did in the previous implementations\n",
    "# However, tokenization will be implemented as part of the training procedure with the data loader\n",
    "\n",
    "data_only = data.copy()\n",
    "data_only = data_only.drop(['Id', 'NoTags'], axis=1)\n",
    "data_only['Text'] = data_only[['Title', 'Body']].apply(\"\".join, axis=1)\n",
    "data_only = data_only.drop(['Title', 'Body'], axis=1)\n",
    "data_only.head()"
   ]
  },
  {
   "cell_type": "code",
   "execution_count": 7,
   "id": "0cedd1ec-4aee-4a50-b55e-54b40236e946",
   "metadata": {},
   "outputs": [],
   "source": [
    "# Define metric for validation purposes \n",
    "\n",
    "def hamming_score(y_true, y_pred, normalize=True, sample_weight=None):\n",
    "    acc_list = []\n",
    "    for i in range(y_true.shape[0]):\n",
    "        set_true = set( np.where(y_true[i])[0] )\n",
    "        set_pred = set( np.where(y_pred[i])[0] )\n",
    "        tmp_a = None\n",
    "        if len(set_true) == 0 and len(set_pred) == 0:\n",
    "            tmp_a = 1\n",
    "        else:\n",
    "            tmp_a = len(set_true.intersection(set_pred))/\\\n",
    "                    float( len(set_true.union(set_pred)) )\n",
    "        acc_list.append(tmp_a)\n",
    "    return np.mean(acc_list)"
   ]
  },
  {
   "cell_type": "code",
   "execution_count": 8,
   "id": "e7f60a62-0ad3-44db-8ac5-aacf3f44a799",
   "metadata": {},
   "outputs": [],
   "source": [
    "most_common_tags = pd.read_pickle('most_common_tags.pkl')"
   ]
  },
  {
   "cell_type": "code",
   "execution_count": 9,
   "id": "5b4fea9d-5c35-4dcb-bed9-4c6209fc80c0",
   "metadata": {},
   "outputs": [],
   "source": [
    "# We want to keep only the top-50 tags due to resources limitations\n",
    "\n",
    "df_new = data_only.copy()\n",
    "\n",
    "for tag in most_common_tags:\n",
    "    tmp_tag = []\n",
    "    for inst in data_only['Tag']:\n",
    "        if tag in inst:\n",
    "            tmp_tag.append(int(1))\n",
    "        else:\n",
    "            tmp_tag.append(int(0))\n",
    "    data_only[tag] = tmp_tag"
   ]
  },
  {
   "cell_type": "code",
   "execution_count": 10,
   "id": "7b2529c9-db7a-4ad0-9874-6fccbc0f99db",
   "metadata": {},
   "outputs": [
    {
     "data": {
      "text/html": [
       "<div>\n",
       "<style scoped>\n",
       "    .dataframe tbody tr th:only-of-type {\n",
       "        vertical-align: middle;\n",
       "    }\n",
       "\n",
       "    .dataframe tbody tr th {\n",
       "        vertical-align: top;\n",
       "    }\n",
       "\n",
       "    .dataframe thead th {\n",
       "        text-align: right;\n",
       "    }\n",
       "</style>\n",
       "<table border=\"1\" class=\"dataframe\">\n",
       "  <thead>\n",
       "    <tr style=\"text-align: right;\">\n",
       "      <th></th>\n",
       "      <th>Tag</th>\n",
       "      <th>Text</th>\n",
       "      <th>javascript</th>\n",
       "      <th>java</th>\n",
       "      <th>c#</th>\n",
       "      <th>php</th>\n",
       "      <th>android</th>\n",
       "      <th>jquery</th>\n",
       "      <th>python</th>\n",
       "      <th>html</th>\n",
       "      <th>...</th>\n",
       "      <th>spring</th>\n",
       "      <th>wordpress</th>\n",
       "      <th>eclipse</th>\n",
       "      <th>html5</th>\n",
       "      <th>multithreading</th>\n",
       "      <th>oracle</th>\n",
       "      <th>git</th>\n",
       "      <th>facebook</th>\n",
       "      <th>forms</th>\n",
       "      <th>bash</th>\n",
       "    </tr>\n",
       "  </thead>\n",
       "  <tbody>\n",
       "    <tr>\n",
       "      <th>0</th>\n",
       "      <td>[flex, actionscript-3, air]</td>\n",
       "      <td>sqlstatement.execute() - multiple queries in o...</td>\n",
       "      <td>0</td>\n",
       "      <td>0</td>\n",
       "      <td>0</td>\n",
       "      <td>0</td>\n",
       "      <td>0</td>\n",
       "      <td>0</td>\n",
       "      <td>0</td>\n",
       "      <td>0</td>\n",
       "      <td>...</td>\n",
       "      <td>0</td>\n",
       "      <td>0</td>\n",
       "      <td>0</td>\n",
       "      <td>0</td>\n",
       "      <td>0</td>\n",
       "      <td>0</td>\n",
       "      <td>0</td>\n",
       "      <td>0</td>\n",
       "      <td>0</td>\n",
       "      <td>0</td>\n",
       "    </tr>\n",
       "    <tr>\n",
       "      <th>1</th>\n",
       "      <td>[svn, tortoisesvn, branch, branching-and-merging]</td>\n",
       "      <td>good branching and merging tutorials for torto...</td>\n",
       "      <td>0</td>\n",
       "      <td>0</td>\n",
       "      <td>0</td>\n",
       "      <td>0</td>\n",
       "      <td>0</td>\n",
       "      <td>0</td>\n",
       "      <td>0</td>\n",
       "      <td>0</td>\n",
       "      <td>...</td>\n",
       "      <td>0</td>\n",
       "      <td>0</td>\n",
       "      <td>0</td>\n",
       "      <td>0</td>\n",
       "      <td>0</td>\n",
       "      <td>0</td>\n",
       "      <td>0</td>\n",
       "      <td>0</td>\n",
       "      <td>0</td>\n",
       "      <td>0</td>\n",
       "    </tr>\n",
       "    <tr>\n",
       "      <th>2</th>\n",
       "      <td>[sql, asp.net, sitemap]</td>\n",
       "      <td>asp.net site maps&lt;p&gt;has anyone got experience ...</td>\n",
       "      <td>0</td>\n",
       "      <td>0</td>\n",
       "      <td>0</td>\n",
       "      <td>0</td>\n",
       "      <td>0</td>\n",
       "      <td>0</td>\n",
       "      <td>0</td>\n",
       "      <td>0</td>\n",
       "      <td>...</td>\n",
       "      <td>0</td>\n",
       "      <td>0</td>\n",
       "      <td>0</td>\n",
       "      <td>0</td>\n",
       "      <td>0</td>\n",
       "      <td>0</td>\n",
       "      <td>0</td>\n",
       "      <td>0</td>\n",
       "      <td>0</td>\n",
       "      <td>0</td>\n",
       "    </tr>\n",
       "    <tr>\n",
       "      <th>3</th>\n",
       "      <td>[algorithm, language-agnostic, colors, color-s...</td>\n",
       "      <td>function for creating color wheels&lt;p&gt;this is s...</td>\n",
       "      <td>0</td>\n",
       "      <td>0</td>\n",
       "      <td>0</td>\n",
       "      <td>0</td>\n",
       "      <td>0</td>\n",
       "      <td>0</td>\n",
       "      <td>0</td>\n",
       "      <td>0</td>\n",
       "      <td>...</td>\n",
       "      <td>0</td>\n",
       "      <td>0</td>\n",
       "      <td>0</td>\n",
       "      <td>0</td>\n",
       "      <td>0</td>\n",
       "      <td>0</td>\n",
       "      <td>0</td>\n",
       "      <td>0</td>\n",
       "      <td>0</td>\n",
       "      <td>0</td>\n",
       "    </tr>\n",
       "    <tr>\n",
       "      <th>4</th>\n",
       "      <td>[c#, .net, scripting, compiler-construction]</td>\n",
       "      <td>adding scripting functionality to .net applica...</td>\n",
       "      <td>0</td>\n",
       "      <td>0</td>\n",
       "      <td>1</td>\n",
       "      <td>0</td>\n",
       "      <td>0</td>\n",
       "      <td>0</td>\n",
       "      <td>0</td>\n",
       "      <td>0</td>\n",
       "      <td>...</td>\n",
       "      <td>0</td>\n",
       "      <td>0</td>\n",
       "      <td>0</td>\n",
       "      <td>0</td>\n",
       "      <td>0</td>\n",
       "      <td>0</td>\n",
       "      <td>0</td>\n",
       "      <td>0</td>\n",
       "      <td>0</td>\n",
       "      <td>0</td>\n",
       "    </tr>\n",
       "  </tbody>\n",
       "</table>\n",
       "<p>5 rows × 52 columns</p>\n",
       "</div>"
      ],
      "text/plain": [
       "                                                 Tag  \\\n",
       "0                        [flex, actionscript-3, air]   \n",
       "1  [svn, tortoisesvn, branch, branching-and-merging]   \n",
       "2                            [sql, asp.net, sitemap]   \n",
       "3  [algorithm, language-agnostic, colors, color-s...   \n",
       "4       [c#, .net, scripting, compiler-construction]   \n",
       "\n",
       "                                                Text  javascript  java  c#  \\\n",
       "0  sqlstatement.execute() - multiple queries in o...           0     0   0   \n",
       "1  good branching and merging tutorials for torto...           0     0   0   \n",
       "2  asp.net site maps<p>has anyone got experience ...           0     0   0   \n",
       "3  function for creating color wheels<p>this is s...           0     0   0   \n",
       "4  adding scripting functionality to .net applica...           0     0   1   \n",
       "\n",
       "   php  android  jquery  python  html  ...  spring  wordpress  eclipse  html5  \\\n",
       "0    0        0       0       0     0  ...       0          0        0      0   \n",
       "1    0        0       0       0     0  ...       0          0        0      0   \n",
       "2    0        0       0       0     0  ...       0          0        0      0   \n",
       "3    0        0       0       0     0  ...       0          0        0      0   \n",
       "4    0        0       0       0     0  ...       0          0        0      0   \n",
       "\n",
       "   multithreading  oracle  git  facebook  forms  bash  \n",
       "0               0       0    0         0      0     0  \n",
       "1               0       0    0         0      0     0  \n",
       "2               0       0    0         0      0     0  \n",
       "3               0       0    0         0      0     0  \n",
       "4               0       0    0         0      0     0  \n",
       "\n",
       "[5 rows x 52 columns]"
      ]
     },
     "execution_count": 10,
     "metadata": {},
     "output_type": "execute_result"
    }
   ],
   "source": [
    "data_only.head()"
   ]
  },
  {
   "cell_type": "code",
   "execution_count": 11,
   "id": "83d29782-aae1-4162-aa00-2a47f4ddae0c",
   "metadata": {},
   "outputs": [],
   "source": [
    "# Combine all labels in one list\n",
    "\n",
    "source_col_loc = data_only.columns.get_loc('Text') # column position starts from 0\n",
    "\n",
    "data_only['Target'] = data_only.iloc[:,source_col_loc+1:].apply(\n",
    "    lambda x: \",\".join(x.astype(str)), axis=1)"
   ]
  },
  {
   "cell_type": "code",
   "execution_count": 12,
   "id": "d9f04114-2151-42f4-b127-013c624c9995",
   "metadata": {},
   "outputs": [],
   "source": [
    "df = data_only[['Text', 'Target']].copy()"
   ]
  },
  {
   "cell_type": "code",
   "execution_count": 13,
   "id": "56be4a73-f2e3-46c5-91eb-eba9d6fc42ce",
   "metadata": {},
   "outputs": [],
   "source": [
    "new_df = pd.DataFrame()\n",
    "new_df['text'] = df['Text']\n",
    "new_df['labels'] = df.iloc[:, 1:].values.tolist()"
   ]
  },
  {
   "cell_type": "code",
   "execution_count": 14,
   "id": "e428ba2f-ec35-42b4-85db-bceb595f5dce",
   "metadata": {},
   "outputs": [
    {
     "data": {
      "text/html": [
       "<div>\n",
       "<style scoped>\n",
       "    .dataframe tbody tr th:only-of-type {\n",
       "        vertical-align: middle;\n",
       "    }\n",
       "\n",
       "    .dataframe tbody tr th {\n",
       "        vertical-align: top;\n",
       "    }\n",
       "\n",
       "    .dataframe thead th {\n",
       "        text-align: right;\n",
       "    }\n",
       "</style>\n",
       "<table border=\"1\" class=\"dataframe\">\n",
       "  <thead>\n",
       "    <tr style=\"text-align: right;\">\n",
       "      <th></th>\n",
       "      <th>text</th>\n",
       "      <th>labels</th>\n",
       "    </tr>\n",
       "  </thead>\n",
       "  <tbody>\n",
       "    <tr>\n",
       "      <th>0</th>\n",
       "      <td>sqlstatement.execute() - multiple queries in o...</td>\n",
       "      <td>[0,0,0,0,0,0,0,0,0,0,0,0,0,0,0,0,0,0,0,0,0,0,0...</td>\n",
       "    </tr>\n",
       "    <tr>\n",
       "      <th>1</th>\n",
       "      <td>good branching and merging tutorials for torto...</td>\n",
       "      <td>[0,0,0,0,0,0,0,0,0,0,0,0,0,0,0,0,0,0,0,0,0,0,0...</td>\n",
       "    </tr>\n",
       "    <tr>\n",
       "      <th>2</th>\n",
       "      <td>asp.net site maps&lt;p&gt;has anyone got experience ...</td>\n",
       "      <td>[0,0,0,0,0,0,0,0,0,0,0,0,1,1,0,0,0,0,0,0,0,0,0...</td>\n",
       "    </tr>\n",
       "    <tr>\n",
       "      <th>3</th>\n",
       "      <td>function for creating color wheels&lt;p&gt;this is s...</td>\n",
       "      <td>[0,0,0,0,0,0,0,0,0,0,0,0,0,0,0,0,0,0,0,0,0,0,0...</td>\n",
       "    </tr>\n",
       "    <tr>\n",
       "      <th>4</th>\n",
       "      <td>adding scripting functionality to .net applica...</td>\n",
       "      <td>[0,0,1,0,0,0,0,0,0,0,0,0,0,0,0,0,1,0,0,0,0,0,0...</td>\n",
       "    </tr>\n",
       "  </tbody>\n",
       "</table>\n",
       "</div>"
      ],
      "text/plain": [
       "                                                text  \\\n",
       "0  sqlstatement.execute() - multiple queries in o...   \n",
       "1  good branching and merging tutorials for torto...   \n",
       "2  asp.net site maps<p>has anyone got experience ...   \n",
       "3  function for creating color wheels<p>this is s...   \n",
       "4  adding scripting functionality to .net applica...   \n",
       "\n",
       "                                              labels  \n",
       "0  [0,0,0,0,0,0,0,0,0,0,0,0,0,0,0,0,0,0,0,0,0,0,0...  \n",
       "1  [0,0,0,0,0,0,0,0,0,0,0,0,0,0,0,0,0,0,0,0,0,0,0...  \n",
       "2  [0,0,0,0,0,0,0,0,0,0,0,0,1,1,0,0,0,0,0,0,0,0,0...  \n",
       "3  [0,0,0,0,0,0,0,0,0,0,0,0,0,0,0,0,0,0,0,0,0,0,0...  \n",
       "4  [0,0,1,0,0,0,0,0,0,0,0,0,0,0,0,0,1,0,0,0,0,0,0...  "
      ]
     },
     "execution_count": 14,
     "metadata": {},
     "output_type": "execute_result"
    }
   ],
   "source": [
    "new_df.head()"
   ]
  },
  {
   "cell_type": "code",
   "execution_count": null,
   "id": "4f9678e2-797b-4de4-b03a-487e7bdf691e",
   "metadata": {},
   "outputs": [],
   "source": [
    "# We want to keep only the questions that include one of the top 50 tags, due to resources limitations\n",
    "# ATTENTION: time consuming process. You may continue to load the data in the following cells.\n",
    "\n",
    "df2 = new_df.copy()\n",
    "\n",
    "for ind in new_df.index:\n",
    "    st = new_df.loc[ind,'labels'][0].split(\",\")\n",
    "    if \"1\" not in st:\n",
    "        df2 = df2.drop(index = ind)\n",
    "        print(st, ind)\n",
    "\n",
    "joblib.dump(df2, 'data_non_zero.pkl')"
   ]
  },
  {
   "cell_type": "code",
   "execution_count": 42,
   "id": "bb262083-9cf1-4db6-b6ca-a5512cf9d2ef",
   "metadata": {},
   "outputs": [],
   "source": [
    "data_non_zero = pd.DataFrame(pd.read_pickle('data_non_zero.pkl').T, columns=['text', 'labels'])"
   ]
  },
  {
   "cell_type": "code",
   "execution_count": 43,
   "id": "02aab67c-31d2-4b33-8bad-33e45a9ffcef",
   "metadata": {},
   "outputs": [
    {
     "data": {
      "text/html": [
       "<div>\n",
       "<style scoped>\n",
       "    .dataframe tbody tr th:only-of-type {\n",
       "        vertical-align: middle;\n",
       "    }\n",
       "\n",
       "    .dataframe tbody tr th {\n",
       "        vertical-align: top;\n",
       "    }\n",
       "\n",
       "    .dataframe thead th {\n",
       "        text-align: right;\n",
       "    }\n",
       "</style>\n",
       "<table border=\"1\" class=\"dataframe\">\n",
       "  <thead>\n",
       "    <tr style=\"text-align: right;\">\n",
       "      <th></th>\n",
       "      <th>text</th>\n",
       "      <th>labels</th>\n",
       "    </tr>\n",
       "  </thead>\n",
       "  <tbody>\n",
       "    <tr>\n",
       "      <th>0</th>\n",
       "      <td>asp.net site maps&lt;p&gt;has anyone got experience ...</td>\n",
       "      <td>[0,0,0,0,0,0,0,0,0,0,0,0,1,1,0,0,0,0,0,0,0,0,0...</td>\n",
       "    </tr>\n",
       "    <tr>\n",
       "      <th>1</th>\n",
       "      <td>adding scripting functionality to .net applica...</td>\n",
       "      <td>[0,0,1,0,0,0,0,0,0,0,0,0,0,0,0,0,1,0,0,0,0,0,0...</td>\n",
       "    </tr>\n",
       "    <tr>\n",
       "      <th>2</th>\n",
       "      <td>should i use nested classes in this case?&lt;p&gt;i ...</td>\n",
       "      <td>[0,0,0,0,0,0,0,0,1,0,0,0,0,0,0,0,0,0,0,0,0,0,0...</td>\n",
       "    </tr>\n",
       "    <tr>\n",
       "      <th>3</th>\n",
       "      <td>homegrown consumption of web services&lt;p&gt;i've b...</td>\n",
       "      <td>[0,0,0,0,0,0,0,0,0,0,0,0,0,0,0,0,1,0,0,0,0,0,0...</td>\n",
       "    </tr>\n",
       "    <tr>\n",
       "      <th>4</th>\n",
       "      <td>deploying sql server databases from test to li...</td>\n",
       "      <td>[0,0,0,0,0,0,0,0,0,0,0,0,0,0,0,0,0,0,0,0,0,1,0...</td>\n",
       "    </tr>\n",
       "  </tbody>\n",
       "</table>\n",
       "</div>"
      ],
      "text/plain": [
       "                                                text  \\\n",
       "0  asp.net site maps<p>has anyone got experience ...   \n",
       "1  adding scripting functionality to .net applica...   \n",
       "2  should i use nested classes in this case?<p>i ...   \n",
       "3  homegrown consumption of web services<p>i've b...   \n",
       "4  deploying sql server databases from test to li...   \n",
       "\n",
       "                                              labels  \n",
       "0  [0,0,0,0,0,0,0,0,0,0,0,0,1,1,0,0,0,0,0,0,0,0,0...  \n",
       "1  [0,0,1,0,0,0,0,0,0,0,0,0,0,0,0,0,1,0,0,0,0,0,0...  \n",
       "2  [0,0,0,0,0,0,0,0,1,0,0,0,0,0,0,0,0,0,0,0,0,0,0...  \n",
       "3  [0,0,0,0,0,0,0,0,0,0,0,0,0,0,0,0,1,0,0,0,0,0,0...  \n",
       "4  [0,0,0,0,0,0,0,0,0,0,0,0,0,0,0,0,0,0,0,0,0,1,0...  "
      ]
     },
     "execution_count": 43,
     "metadata": {},
     "output_type": "execute_result"
    }
   ],
   "source": [
    "data_non_zero.head()"
   ]
  },
  {
   "cell_type": "code",
   "execution_count": null,
   "id": "5e2b3407-e6e0-48da-a2bf-aa2511dff1de",
   "metadata": {},
   "outputs": [],
   "source": [
    "# !!! This is also a time consuming cell.\n",
    "# Even though we have attained all labels in one list, they are in the form of strings, yet the model needs it be\n",
    "# integers\n",
    "\n",
    "tm = pd.DataFrame()\n",
    "\n",
    "for ind in data_non_zero.index:\n",
    "    print(ind)\n",
    "    tmp = data_non_zero['labels'][ind][0]\n",
    "    tmp = tmp.split(\",\")\n",
    "    tmp = list(map(int, tmp))\n",
    "    print(tmp)\n",
    "    tm[ind] = tmp\n",
    "\n",
    "d = tm.T\n",
    "dat = data_non_zero.copy()\n",
    "for ind in dat.index:\n",
    "    print(ind)\n",
    "    l = dat.loc[ind, 'labels']\n",
    "    #print(l)\n",
    "    #for j in d.iloc[ind]:\n",
    "    #    l.append(j)\n",
    "    dat.loc[ind, 'labels'] = [eval(i) for i in l]"
   ]
  },
  {
   "cell_type": "code",
   "execution_count": null,
   "id": "7d4ab1e0-e12f-4e1f-8306-785bd73f0df4",
   "metadata": {},
   "outputs": [],
   "source": [
    "dat\n",
    "data = dat.copy()"
   ]
  },
  {
   "cell_type": "code",
   "execution_count": null,
   "id": "9d307304-1dd4-48a2-8fca-2648a9c5b369",
   "metadata": {},
   "outputs": [],
   "source": [
    "joblib.dump(data, 'data_intlabels.pkl')"
   ]
  },
  {
   "cell_type": "code",
   "execution_count": 4,
   "id": "867be4a4-107e-4d4c-9b0f-0b6b2af3d64e",
   "metadata": {},
   "outputs": [],
   "source": [
    "data = pd.DataFrame(pd.read_pickle('data_intlabels.pkl').T, columns=['text', 'labels'])"
   ]
  },
  {
   "cell_type": "code",
   "execution_count": 5,
   "id": "dc5813fe-2231-4cae-889a-6892f2704c0d",
   "metadata": {},
   "outputs": [
    {
     "data": {
      "text/html": [
       "<div>\n",
       "<style scoped>\n",
       "    .dataframe tbody tr th:only-of-type {\n",
       "        vertical-align: middle;\n",
       "    }\n",
       "\n",
       "    .dataframe tbody tr th {\n",
       "        vertical-align: top;\n",
       "    }\n",
       "\n",
       "    .dataframe thead th {\n",
       "        text-align: right;\n",
       "    }\n",
       "</style>\n",
       "<table border=\"1\" class=\"dataframe\">\n",
       "  <thead>\n",
       "    <tr style=\"text-align: right;\">\n",
       "      <th></th>\n",
       "      <th>text</th>\n",
       "      <th>labels</th>\n",
       "    </tr>\n",
       "  </thead>\n",
       "  <tbody>\n",
       "    <tr>\n",
       "      <th>0</th>\n",
       "      <td>asp.net site maps&lt;p&gt;has anyone got experience ...</td>\n",
       "      <td>[(0, 0, 0, 0, 0, 0, 0, 0, 0, 0, 0, 0, 1, 1, 0,...</td>\n",
       "    </tr>\n",
       "    <tr>\n",
       "      <th>1</th>\n",
       "      <td>adding scripting functionality to .net applica...</td>\n",
       "      <td>[(0, 0, 1, 0, 0, 0, 0, 0, 0, 0, 0, 0, 0, 0, 0,...</td>\n",
       "    </tr>\n",
       "    <tr>\n",
       "      <th>2</th>\n",
       "      <td>should i use nested classes in this case?&lt;p&gt;i ...</td>\n",
       "      <td>[(0, 0, 0, 0, 0, 0, 0, 0, 1, 0, 0, 0, 0, 0, 0,...</td>\n",
       "    </tr>\n",
       "    <tr>\n",
       "      <th>3</th>\n",
       "      <td>homegrown consumption of web services&lt;p&gt;i've b...</td>\n",
       "      <td>[(0, 0, 0, 0, 0, 0, 0, 0, 0, 0, 0, 0, 0, 0, 0,...</td>\n",
       "    </tr>\n",
       "    <tr>\n",
       "      <th>4</th>\n",
       "      <td>deploying sql server databases from test to li...</td>\n",
       "      <td>[(0, 0, 0, 0, 0, 0, 0, 0, 0, 0, 0, 0, 0, 0, 0,...</td>\n",
       "    </tr>\n",
       "  </tbody>\n",
       "</table>\n",
       "</div>"
      ],
      "text/plain": [
       "                                                text  \\\n",
       "0  asp.net site maps<p>has anyone got experience ...   \n",
       "1  adding scripting functionality to .net applica...   \n",
       "2  should i use nested classes in this case?<p>i ...   \n",
       "3  homegrown consumption of web services<p>i've b...   \n",
       "4  deploying sql server databases from test to li...   \n",
       "\n",
       "                                              labels  \n",
       "0  [(0, 0, 0, 0, 0, 0, 0, 0, 0, 0, 0, 0, 1, 1, 0,...  \n",
       "1  [(0, 0, 1, 0, 0, 0, 0, 0, 0, 0, 0, 0, 0, 0, 0,...  \n",
       "2  [(0, 0, 0, 0, 0, 0, 0, 0, 1, 0, 0, 0, 0, 0, 0,...  \n",
       "3  [(0, 0, 0, 0, 0, 0, 0, 0, 0, 0, 0, 0, 0, 0, 0,...  \n",
       "4  [(0, 0, 0, 0, 0, 0, 0, 0, 0, 0, 0, 0, 0, 0, 0,...  "
      ]
     },
     "execution_count": 5,
     "metadata": {},
     "output_type": "execute_result"
    }
   ],
   "source": [
    "data.head()"
   ]
  },
  {
   "cell_type": "code",
   "execution_count": 6,
   "id": "538b6f00-8723-47ec-b343-dfa57307638a",
   "metadata": {},
   "outputs": [],
   "source": [
    "# Sections of config\n",
    "\n",
    "# Defining some key variables that will be used later on in the training\n",
    "MAX_LEN = 128\n",
    "TRAIN_BATCH_SIZE = 8\n",
    "VALID_BATCH_SIZE = 8\n",
    "EPOCHS = 1\n",
    "LEARNING_RATE = 1e-05\n",
    "tokenizer = DistilBertTokenizer.from_pretrained('distilbert-base-uncased', truncation=True, do_lower_case=True)"
   ]
  },
  {
   "cell_type": "code",
   "execution_count": 7,
   "id": "4960bd93-5cab-4fd0-a50b-c0ccf9d1795f",
   "metadata": {},
   "outputs": [],
   "source": [
    "class MultiLabelDataset(Dataset):\n",
    "\n",
    "    def __init__(self, dataframe, tokenizer, max_len):\n",
    "        self.tokenizer = tokenizer\n",
    "        self.data = dataframe\n",
    "        self.text = dataframe.text\n",
    "        self.targets = self.data.labels\n",
    "        self.max_len = max_len\n",
    "\n",
    "    def __len__(self):\n",
    "        return len(self.text)\n",
    "\n",
    "    def __getitem__(self, index):\n",
    "        text = str(self.text[index])\n",
    "        text = \" \".join(text.split())\n",
    "\n",
    "        inputs = self.tokenizer.encode_plus(\n",
    "            text,\n",
    "            None,\n",
    "            add_special_tokens=True,\n",
    "            max_length=self.max_len,\n",
    "            pad_to_max_length=True,\n",
    "            return_token_type_ids=True\n",
    "        )\n",
    "        ids = inputs['input_ids']\n",
    "        mask = inputs['attention_mask']\n",
    "        token_type_ids = inputs[\"token_type_ids\"]\n",
    "\n",
    "\n",
    "        return {\n",
    "            'ids': torch.tensor(ids, dtype=torch.long),\n",
    "            'mask': torch.tensor(mask, dtype=torch.long),\n",
    "            'token_type_ids': torch.tensor(token_type_ids, dtype=torch.long),\n",
    "            'targets': torch.tensor(self.targets[index][0], dtype=torch.float)\n",
    "        }"
   ]
  },
  {
   "cell_type": "code",
   "execution_count": 8,
   "id": "8946d714-aad8-4a22-9ca9-c10186ca71ef",
   "metadata": {},
   "outputs": [
    {
     "name": "stdout",
     "output_type": "stream",
     "text": [
      "FULL Dataset: (986641, 2)\n",
      "TRAIN Dataset: (690649, 2)\n",
      "TEST Dataset: (295992, 2)\n"
     ]
    }
   ],
   "source": [
    "# Creating the dataset and dataloader for the neural network\n",
    "\n",
    "train_size = 0.7\n",
    "train_data=data.sample(frac=train_size,random_state=42)\n",
    "test_data=data.drop(train_data.index).reset_index(drop=True)\n",
    "train_data = train_data.reset_index(drop=True)\n",
    "\n",
    "\n",
    "print(\"FULL Dataset: {}\".format(data.shape))\n",
    "print(\"TRAIN Dataset: {}\".format(train_data.shape))\n",
    "print(\"TEST Dataset: {}\".format(test_data.shape))\n",
    "\n",
    "training_set = MultiLabelDataset(train_data, tokenizer, MAX_LEN)\n",
    "testing_set = MultiLabelDataset(test_data, tokenizer, MAX_LEN)"
   ]
  },
  {
   "cell_type": "code",
   "execution_count": 9,
   "id": "d92a9306-6fae-4c58-ae31-8f95143719d7",
   "metadata": {},
   "outputs": [],
   "source": [
    "train_params = {'batch_size': TRAIN_BATCH_SIZE,\n",
    "                'shuffle': True,\n",
    "                'num_workers': 0\n",
    "                }\n",
    "\n",
    "test_params = {'batch_size': VALID_BATCH_SIZE,\n",
    "                'shuffle': True,\n",
    "                'num_workers': 0\n",
    "                }\n",
    "\n",
    "training_loader = DataLoader(training_set, **train_params)\n",
    "testing_loader = DataLoader(testing_set, **test_params)"
   ]
  },
  {
   "cell_type": "code",
   "execution_count": 10,
   "id": "74633781-a84c-4f81-9925-d66e56c1e300",
   "metadata": {},
   "outputs": [
    {
     "data": {
      "text/plain": [
       "DistilBERTClass(\n",
       "  (l1): DistilBertModel(\n",
       "    (embeddings): Embeddings(\n",
       "      (word_embeddings): Embedding(30522, 768, padding_idx=0)\n",
       "      (position_embeddings): Embedding(512, 768)\n",
       "      (LayerNorm): LayerNorm((768,), eps=1e-12, elementwise_affine=True)\n",
       "      (dropout): Dropout(p=0.1, inplace=False)\n",
       "    )\n",
       "    (transformer): Transformer(\n",
       "      (layer): ModuleList(\n",
       "        (0-5): 6 x TransformerBlock(\n",
       "          (attention): MultiHeadSelfAttention(\n",
       "            (dropout): Dropout(p=0.1, inplace=False)\n",
       "            (q_lin): Linear(in_features=768, out_features=768, bias=True)\n",
       "            (k_lin): Linear(in_features=768, out_features=768, bias=True)\n",
       "            (v_lin): Linear(in_features=768, out_features=768, bias=True)\n",
       "            (out_lin): Linear(in_features=768, out_features=768, bias=True)\n",
       "          )\n",
       "          (sa_layer_norm): LayerNorm((768,), eps=1e-12, elementwise_affine=True)\n",
       "          (ffn): FFN(\n",
       "            (dropout): Dropout(p=0.1, inplace=False)\n",
       "            (lin1): Linear(in_features=768, out_features=3072, bias=True)\n",
       "            (lin2): Linear(in_features=3072, out_features=768, bias=True)\n",
       "            (activation): GELUActivation()\n",
       "          )\n",
       "          (output_layer_norm): LayerNorm((768,), eps=1e-12, elementwise_affine=True)\n",
       "        )\n",
       "      )\n",
       "    )\n",
       "  )\n",
       "  (pre_classifier): Linear(in_features=768, out_features=768, bias=True)\n",
       "  (dropout): Dropout(p=0.1, inplace=False)\n",
       "  (classifier): Linear(in_features=768, out_features=50, bias=True)\n",
       ")"
      ]
     },
     "execution_count": 10,
     "metadata": {},
     "output_type": "execute_result"
    }
   ],
   "source": [
    "# Creating the customized model, by adding a drop out and a dense layer on top of distil bert to get the \n",
    "# final output for the model\n",
    "\n",
    "class DistilBERTClass(torch.nn.Module):\n",
    "    def __init__(self):\n",
    "        super(DistilBERTClass, self).__init__()\n",
    "        self.l1 = DistilBertModel.from_pretrained(\"distilbert-base-uncased\")\n",
    "        self.pre_classifier = torch.nn.Linear(768, 768)\n",
    "        self.dropout = torch.nn.Dropout(0.1)\n",
    "        self.classifier = torch.nn.Linear(768, 50)\n",
    "\n",
    "    def forward(self, input_ids, attention_mask, token_type_ids):\n",
    "        output_1 = self.l1(input_ids=input_ids, attention_mask=attention_mask)\n",
    "        hidden_state = output_1[0]\n",
    "        pooler = hidden_state[:, 0]\n",
    "        pooler = self.pre_classifier(pooler)\n",
    "        pooler = torch.nn.Tanh()(pooler)\n",
    "        pooler = self.dropout(pooler)\n",
    "        output = self.classifier(pooler)\n",
    "        return output\n",
    "\n",
    "model = DistilBERTClass()\n",
    "model.to(device)"
   ]
  },
  {
   "cell_type": "code",
   "execution_count": 11,
   "id": "586c03f3-e772-47c5-a9e3-6ca2b0e503a4",
   "metadata": {},
   "outputs": [],
   "source": [
    "def loss_fn(outputs, targets):\n",
    "    return torch.nn.BCEWithLogitsLoss()(outputs, targets)"
   ]
  },
  {
   "cell_type": "code",
   "execution_count": 12,
   "id": "66a863f5-9c5f-4bf4-a0f5-27a47e8993f1",
   "metadata": {},
   "outputs": [],
   "source": [
    "optimizer = torch.optim.Adam(params =  model.parameters(), lr=LEARNING_RATE)"
   ]
  },
  {
   "cell_type": "code",
   "execution_count": 13,
   "id": "ebaba4ce-844b-4df3-9240-4312b6c79d67",
   "metadata": {},
   "outputs": [],
   "source": [
    "def train(epoch):\n",
    "    model.train()\n",
    "    for _,data in tqdm(enumerate(training_loader, 0)):\n",
    "        ids = data['ids'].to(device, dtype = torch.long)\n",
    "        mask = data['mask'].to(device, dtype = torch.long)\n",
    "        token_type_ids = data['token_type_ids'].to(device, dtype = torch.long)\n",
    "        targets = data['targets'].to(device, dtype = torch.float)\n",
    "        #print(targets.shape)\n",
    "\n",
    "        outputs = model(ids, mask, token_type_ids)\n",
    "\n",
    "        optimizer.zero_grad()\n",
    "        loss = loss_fn(outputs, targets)\n",
    "        if _%5000==0:\n",
    "            print(f'Epoch: {epoch}, Loss:  {loss.item()}')\n",
    "        \n",
    "        loss.backward()\n",
    "        optimizer.step()"
   ]
  },
  {
   "cell_type": "code",
   "execution_count": null,
   "id": "3797a281-dc23-4c79-a33b-580ff45802cc",
   "metadata": {},
   "outputs": [
    {
     "name": "stderr",
     "output_type": "stream",
     "text": [
      "0it [00:00, ?it/s]Truncation was not explicitly activated but `max_length` is provided a specific value, please use `truncation=True` to explicitly truncate examples to max length. Defaulting to 'longest_first' truncation strategy. If you encode pairs of sequences (GLUE-style) with the tokenizer you can select this strategy more precisely by providing a specific strategy to `truncation`.\n",
      "1it [00:00,  2.29it/s]"
     ]
    },
    {
     "name": "stdout",
     "output_type": "stream",
     "text": [
      "Epoch: 0, Loss:  0.7146694660186768\n"
     ]
    },
    {
     "name": "stderr",
     "output_type": "stream",
     "text": [
      "5003it [08:07, 10.50it/s]"
     ]
    },
    {
     "name": "stdout",
     "output_type": "stream",
     "text": [
      "Epoch: 0, Loss:  0.07199488580226898\n"
     ]
    },
    {
     "name": "stderr",
     "output_type": "stream",
     "text": [
      "10003it [16:07, 10.52it/s]"
     ]
    },
    {
     "name": "stdout",
     "output_type": "stream",
     "text": [
      "Epoch: 0, Loss:  0.03323834761977196\n"
     ]
    },
    {
     "name": "stderr",
     "output_type": "stream",
     "text": [
      "15003it [24:07, 10.54it/s]"
     ]
    },
    {
     "name": "stdout",
     "output_type": "stream",
     "text": [
      "Epoch: 0, Loss:  0.057408809661865234\n"
     ]
    },
    {
     "name": "stderr",
     "output_type": "stream",
     "text": [
      "20003it [32:07, 10.49it/s]"
     ]
    },
    {
     "name": "stdout",
     "output_type": "stream",
     "text": [
      "Epoch: 0, Loss:  0.034252118319272995\n"
     ]
    },
    {
     "name": "stderr",
     "output_type": "stream",
     "text": [
      "25003it [40:09, 10.51it/s]"
     ]
    },
    {
     "name": "stdout",
     "output_type": "stream",
     "text": [
      "Epoch: 0, Loss:  0.04090392589569092\n"
     ]
    },
    {
     "name": "stderr",
     "output_type": "stream",
     "text": [
      "30002it [48:11, 10.41it/s]"
     ]
    },
    {
     "name": "stdout",
     "output_type": "stream",
     "text": [
      "Epoch: 0, Loss:  0.030357569456100464\n"
     ]
    },
    {
     "name": "stderr",
     "output_type": "stream",
     "text": [
      "35003it [56:10, 10.61it/s]"
     ]
    },
    {
     "name": "stdout",
     "output_type": "stream",
     "text": [
      "Epoch: 0, Loss:  0.049699027091264725\n"
     ]
    },
    {
     "name": "stderr",
     "output_type": "stream",
     "text": [
      "40003it [1:04:08, 10.49it/s]"
     ]
    },
    {
     "name": "stdout",
     "output_type": "stream",
     "text": [
      "Epoch: 0, Loss:  0.030621962621808052\n"
     ]
    },
    {
     "name": "stderr",
     "output_type": "stream",
     "text": [
      "45003it [1:12:06, 10.56it/s]"
     ]
    },
    {
     "name": "stdout",
     "output_type": "stream",
     "text": [
      "Epoch: 0, Loss:  0.04128674790263176\n"
     ]
    },
    {
     "name": "stderr",
     "output_type": "stream",
     "text": [
      "50003it [1:20:06, 10.60it/s]"
     ]
    },
    {
     "name": "stdout",
     "output_type": "stream",
     "text": [
      "Epoch: 0, Loss:  0.02162994258105755\n"
     ]
    },
    {
     "name": "stderr",
     "output_type": "stream",
     "text": [
      "55003it [1:28:05, 10.66it/s]"
     ]
    },
    {
     "name": "stdout",
     "output_type": "stream",
     "text": [
      "Epoch: 0, Loss:  0.02819053828716278\n"
     ]
    },
    {
     "name": "stderr",
     "output_type": "stream",
     "text": [
      "60003it [1:36:05, 10.61it/s]"
     ]
    },
    {
     "name": "stdout",
     "output_type": "stream",
     "text": [
      "Epoch: 0, Loss:  0.044776801019907\n"
     ]
    },
    {
     "name": "stderr",
     "output_type": "stream",
     "text": [
      "65003it [1:44:01, 10.64it/s]"
     ]
    },
    {
     "name": "stdout",
     "output_type": "stream",
     "text": [
      "Epoch: 0, Loss:  0.050213154405355453\n"
     ]
    },
    {
     "name": "stderr",
     "output_type": "stream",
     "text": [
      "68298it [1:49:19,  9.48it/s]"
     ]
    }
   ],
   "source": [
    "for epoch in range(EPOCHS):\n",
    "    train(epoch)"
   ]
  },
  {
   "cell_type": "code",
   "execution_count": null,
   "id": "fba5075c-dbe8-4015-9a0a-a3e48ae24684",
   "metadata": {},
   "outputs": [],
   "source": [
    "def validation(testing_loader):\n",
    "    model.eval()\n",
    "    fin_targets=[]\n",
    "    fin_outputs=[]\n",
    "    with torch.no_grad():\n",
    "        for _, data in tqdm(enumerate(testing_loader, 0)):\n",
    "            ids = data['ids'].to(device, dtype = torch.long)\n",
    "            mask = data['mask'].to(device, dtype = torch.long)\n",
    "            token_type_ids = data['token_type_ids'].to(device, dtype = torch.long)\n",
    "            targets = data['targets'].to(device, dtype = torch.float)\n",
    "            outputs = model(ids, mask, token_type_ids)\n",
    "            fin_targets.extend(targets.cpu().detach().numpy().tolist())\n",
    "            fin_outputs.extend(torch.sigmoid(outputs).cpu().detach().numpy().tolist())\n",
    "    return fin_outputs, fin_targets"
   ]
  },
  {
   "cell_type": "code",
   "execution_count": null,
   "id": "00d9e8e0-fbaa-40a9-b9d8-51ed412c1b3d",
   "metadata": {},
   "outputs": [],
   "source": [
    "outputs, targets = validation(testing_loader)\n",
    "\n",
    "final_outputs = np.array(outputs) >=0.5"
   ]
  },
  {
   "cell_type": "code",
   "execution_count": null,
   "id": "58ea7bed-2888-4c9a-a980-9af2f66e6202",
   "metadata": {},
   "outputs": [],
   "source": [
    "# Validation of the model with a split 70/30 for training/testing\n",
    "\n",
    "val_hamming_loss = metrics.hamming_loss(targets, final_outputs)\n",
    "val_hamming_score = hamming_score(np.array(targets), np.array(final_outputs))\n",
    "\n",
    "acc = accuracy_score(np.array(targets), np.array(final_outputs))\n",
    "f1 = f1_score(np.array(targets), np.array(final_outputs), average=\"micro\")\n",
    "\n",
    "print('Results:\\nAccuracy = {:.2f}\\nF1-score = {:.2f}\\nHamming Loss = {:.2f}\\nHamming Score = {:.2f}'.format(acc,\\\n",
    "                                                                        f1, val_hamming_loss, val_hamming_score))"
   ]
  },
  {
   "cell_type": "code",
   "execution_count": null,
   "id": "7d5057ef-cd61-4fec-b6e9-46163d4949b0",
   "metadata": {},
   "outputs": [],
   "source": [
    "# Saving the files for inference\n",
    "\n",
    "output_model_file = 'pytorch_distilbert_70_batch8_lr15.bin'\n",
    "output_vocab_file = 'vocab_distilbert_70_batch8_lr15.bin'\n",
    "\n",
    "torch.save(model, output_model_file)\n",
    "tokenizer.save_vocabulary(output_vocab_file)\n",
    "\n",
    "print('Saved')"
   ]
  },
  {
   "cell_type": "code",
   "execution_count": null,
   "id": "9ac3bdf8-eab1-4c77-ad4c-b0b713baef36",
   "metadata": {},
   "outputs": [],
   "source": [
    "# Sections of config\n",
    "\n",
    "# Defining some key variables that will be used later on in the training\n",
    "MAX_LEN = 128\n",
    "TRAIN_BATCH_SIZE = 8\n",
    "VALID_BATCH_SIZE = 8\n",
    "EPOCHS = 1\n",
    "LEARNING_RATE = 1e-04\n",
    "tokenizer = DistilBertTokenizer.from_pretrained('distilbert-base-uncased', truncation=True, do_lower_case=True)"
   ]
  },
  {
   "cell_type": "code",
   "execution_count": null,
   "id": "c2b143e2-2fa4-42b6-8ce2-34f37a5d5e3d",
   "metadata": {},
   "outputs": [],
   "source": [
    "class MultiLabelDataset(Dataset):\n",
    "\n",
    "    def __init__(self, dataframe, tokenizer, max_len):\n",
    "        self.tokenizer = tokenizer\n",
    "        self.data = dataframe\n",
    "        self.text = dataframe.text\n",
    "        self.targets = self.data.labels\n",
    "        self.max_len = max_len\n",
    "\n",
    "    def __len__(self):\n",
    "        return len(self.text)\n",
    "\n",
    "    def __getitem__(self, index):\n",
    "        text = str(self.text[index])\n",
    "        text = \" \".join(text.split())\n",
    "\n",
    "        inputs = self.tokenizer.encode_plus(\n",
    "            text,\n",
    "            None,\n",
    "            add_special_tokens=True,\n",
    "            max_length=self.max_len,\n",
    "            pad_to_max_length=True,\n",
    "            return_token_type_ids=True\n",
    "        )\n",
    "        ids = inputs['input_ids']\n",
    "        mask = inputs['attention_mask']\n",
    "        token_type_ids = inputs[\"token_type_ids\"]\n",
    "\n",
    "\n",
    "        return {\n",
    "            'ids': torch.tensor(ids, dtype=torch.long),\n",
    "            'mask': torch.tensor(mask, dtype=torch.long),\n",
    "            'token_type_ids': torch.tensor(token_type_ids, dtype=torch.long),\n",
    "            'targets': torch.tensor(self.targets[index][0], dtype=torch.float)\n",
    "        }"
   ]
  },
  {
   "cell_type": "code",
   "execution_count": null,
   "id": "19475034-307c-4685-83b1-f88fa9735df6",
   "metadata": {},
   "outputs": [],
   "source": [
    "# Creating the dataset and dataloader for the neural network\n",
    "\n",
    "train_size = 0.7\n",
    "train_data=data.sample(frac=train_size,random_state=42)\n",
    "test_data=data.drop(train_data.index).reset_index(drop=True)\n",
    "train_data = train_data.reset_index(drop=True)\n",
    "\n",
    "\n",
    "print(\"FULL Dataset: {}\".format(data.shape))\n",
    "print(\"TRAIN Dataset: {}\".format(train_data.shape))\n",
    "print(\"TEST Dataset: {}\".format(test_data.shape))\n",
    "\n",
    "training_set = MultiLabelDataset(train_data, tokenizer, MAX_LEN)\n",
    "testing_set = MultiLabelDataset(test_data, tokenizer, MAX_LEN)"
   ]
  },
  {
   "cell_type": "code",
   "execution_count": null,
   "id": "86ae06cb-5517-4714-a95b-4d74be2ff540",
   "metadata": {},
   "outputs": [],
   "source": [
    "train_params = {'batch_size': TRAIN_BATCH_SIZE,\n",
    "                'shuffle': True,\n",
    "                'num_workers': 0\n",
    "                }\n",
    "\n",
    "test_params = {'batch_size': VALID_BATCH_SIZE,\n",
    "                'shuffle': True,\n",
    "                'num_workers': 0\n",
    "                }\n",
    "\n",
    "training_loader = DataLoader(training_set, **train_params)\n",
    "testing_loader = DataLoader(testing_set, **test_params)"
   ]
  },
  {
   "cell_type": "code",
   "execution_count": null,
   "id": "f413df8b-97a9-479d-9156-fda02dd0286a",
   "metadata": {},
   "outputs": [],
   "source": [
    "# Creating the customized model, by adding a drop out and a dense layer on top of distil bert to get the \n",
    "# final output for the model\n",
    "\n",
    "class DistilBERTClass(torch.nn.Module):\n",
    "    def __init__(self):\n",
    "        super(DistilBERTClass, self).__init__()\n",
    "        self.l1 = DistilBertModel.from_pretrained(\"distilbert-base-uncased\")\n",
    "        self.pre_classifier = torch.nn.Linear(768, 768)\n",
    "        self.dropout = torch.nn.Dropout(0.1)\n",
    "        self.classifier = torch.nn.Linear(768, 50)\n",
    "\n",
    "    def forward(self, input_ids, attention_mask, token_type_ids):\n",
    "        output_1 = self.l1(input_ids=input_ids, attention_mask=attention_mask)\n",
    "        hidden_state = output_1[0]\n",
    "        pooler = hidden_state[:, 0]\n",
    "        pooler = self.pre_classifier(pooler)\n",
    "        pooler = torch.nn.Tanh()(pooler)\n",
    "        pooler = self.dropout(pooler)\n",
    "        output = self.classifier(pooler)\n",
    "        return output\n",
    "\n",
    "model = DistilBERTClass()\n",
    "model.to(device)"
   ]
  },
  {
   "cell_type": "code",
   "execution_count": null,
   "id": "ace91ede-46a0-41c4-bddb-1a1723f20316",
   "metadata": {},
   "outputs": [],
   "source": [
    "def loss_fn(outputs, targets):\n",
    "    return torch.nn.BCEWithLogitsLoss()(outputs, targets)"
   ]
  },
  {
   "cell_type": "code",
   "execution_count": null,
   "id": "41a62fc8-a78a-47c4-b2a4-13be84284930",
   "metadata": {},
   "outputs": [],
   "source": [
    "optimizer = torch.optim.Adam(params =  model.parameters(), lr=LEARNING_RATE)"
   ]
  },
  {
   "cell_type": "code",
   "execution_count": null,
   "id": "fdaf92b1-ce38-48a1-82fa-75b87eb91df8",
   "metadata": {},
   "outputs": [],
   "source": [
    "def train(epoch):\n",
    "    model.train()\n",
    "    for _,data in tqdm(enumerate(training_loader, 0)):\n",
    "        ids = data['ids'].to(device, dtype = torch.long)\n",
    "        mask = data['mask'].to(device, dtype = torch.long)\n",
    "        token_type_ids = data['token_type_ids'].to(device, dtype = torch.long)\n",
    "        targets = data['targets'].to(device, dtype = torch.float)\n",
    "        #print(targets.shape)\n",
    "\n",
    "        outputs = model(ids, mask, token_type_ids)\n",
    "\n",
    "        optimizer.zero_grad()\n",
    "        loss = loss_fn(outputs, targets)\n",
    "        if _%5000==0:\n",
    "            print(f'Epoch: {epoch}, Loss:  {loss.item()}')\n",
    "        \n",
    "        loss.backward()\n",
    "        optimizer.step()"
   ]
  },
  {
   "cell_type": "code",
   "execution_count": null,
   "id": "9b76ae71-6fa9-43f0-95ed-b5d2c0625c1b",
   "metadata": {},
   "outputs": [],
   "source": [
    "for epoch in range(EPOCHS):\n",
    "    train(epoch)"
   ]
  },
  {
   "cell_type": "code",
   "execution_count": null,
   "id": "eaecbee8-6805-48bd-9860-aca811ed876a",
   "metadata": {},
   "outputs": [],
   "source": [
    "def validation(testing_loader):\n",
    "    model.eval()\n",
    "    fin_targets=[]\n",
    "    fin_outputs=[]\n",
    "    with torch.no_grad():\n",
    "        for _, data in tqdm(enumerate(testing_loader, 0)):\n",
    "            ids = data['ids'].to(device, dtype = torch.long)\n",
    "            mask = data['mask'].to(device, dtype = torch.long)\n",
    "            token_type_ids = data['token_type_ids'].to(device, dtype = torch.long)\n",
    "            targets = data['targets'].to(device, dtype = torch.float)\n",
    "            outputs = model(ids, mask, token_type_ids)\n",
    "            fin_targets.extend(targets.cpu().detach().numpy().tolist())\n",
    "            fin_outputs.extend(torch.sigmoid(outputs).cpu().detach().numpy().tolist())\n",
    "    return fin_outputs, fin_targets"
   ]
  },
  {
   "cell_type": "code",
   "execution_count": null,
   "id": "a679e2d7-9dd8-4f30-8241-eda6c9f61dfb",
   "metadata": {},
   "outputs": [],
   "source": [
    "outputs, targets = validation(testing_loader)\n",
    "\n",
    "final_outputs = np.array(outputs) >=0.5"
   ]
  },
  {
   "cell_type": "code",
   "execution_count": null,
   "id": "2f81282e-c46c-4ec3-9102-fd929449533e",
   "metadata": {},
   "outputs": [],
   "source": [
    "# Validation of the model with a split 70/30 for training/testing\n",
    "\n",
    "val_hamming_loss = metrics.hamming_loss(targets, final_outputs)\n",
    "val_hamming_score = hamming_score(np.array(targets), np.array(final_outputs))\n",
    "\n",
    "acc = accuracy_score(np.array(targets), np.array(final_outputs))\n",
    "f1 = f1_score(np.array(targets), np.array(final_outputs), average=\"micro\")\n",
    "\n",
    "print('Results:\\nAccuracy = {:.2f}\\nF1-score = {:.2f}\\nHamming Loss = {:.2f}\\nHamming Score = {:.2f}'.format(acc,\\\n",
    "                                                                        f1, val_hamming_loss, val_hamming_score))"
   ]
  },
  {
   "cell_type": "code",
   "execution_count": null,
   "id": "2a49b366-ac56-4d97-837c-14755d5d3f62",
   "metadata": {},
   "outputs": [],
   "source": [
    "# Saving the files for inference\n",
    "\n",
    "output_model_file = 'pytorch_distilbert_70_batch8_lr14.bin'\n",
    "output_vocab_file = 'vocab_distilbert_70_batch8_lr14.bin'\n",
    "\n",
    "torch.save(model, output_model_file)\n",
    "tokenizer.save_vocabulary(output_vocab_file)\n",
    "\n",
    "print('Saved')"
   ]
  },
  {
   "cell_type": "code",
   "execution_count": null,
   "id": "e9452c50-03e2-413d-bde5-71998bfd40cd",
   "metadata": {},
   "outputs": [],
   "source": []
  }
 ],
 "metadata": {
  "kernelspec": {
   "display_name": "Python 3 (ipykernel)",
   "language": "python",
   "name": "python3"
  },
  "language_info": {
   "codemirror_mode": {
    "name": "ipython",
    "version": 3
   },
   "file_extension": ".py",
   "mimetype": "text/x-python",
   "name": "python",
   "nbconvert_exporter": "python",
   "pygments_lexer": "ipython3",
   "version": "3.8.10"
  }
 },
 "nbformat": 4,
 "nbformat_minor": 5
}
